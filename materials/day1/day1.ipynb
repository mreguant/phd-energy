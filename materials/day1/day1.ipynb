{
 "cells": [
  {
   "cell_type": "markdown",
   "metadata": {},
   "source": [
    "\n",
    "# Module 1: Introduction\n",
    "\n",
    "We talked today about the massive transformation that electricity markets are witnessing, with the rapid growth of renewable power and explicity goal of fully decarbonizing the electricity market in coming years.\n",
    "\n",
    "In this practice session, we will examine time series data from the Spanish electricity market, which has substantial intermittent renewable power (wind and solar). \n",
    "\n",
    "The data have been collected from publicly available sources (Red Eléctrica de España and OMIE, among others). The data are from the paper \"Measuring the Impact of Wind Power in the Spanish Electricity Market,\" by Claire Petersen, Mar Reguant, and Lola Segura."
   ]
  },
  {
   "cell_type": "markdown",
   "metadata": {},
   "source": [
    "We need to load packages in Julia, similar to the import function in Python or the library functionality in R."
   ]
  },
  {
   "cell_type": "code",
   "execution_count": 1,
   "metadata": {},
   "outputs": [
    {
     "name": "stderr",
     "output_type": "stream",
     "text": [
      "\u001b[32m\u001b[1m    Updating\u001b[22m\u001b[39m registry at `~/.julia/registries/General.toml`\n",
      "\u001b[32m\u001b[1m   Resolving\u001b[22m\u001b[39m package versions...\n",
      "\u001b[32m\u001b[1m   Installed\u001b[22m\u001b[39m RegressionTables ─ v0.7.8\n",
      "\u001b[32m\u001b[1m    Updating\u001b[22m\u001b[39m `~/.julia/environments/v1.10/Project.toml`\n",
      "  \u001b[90m[d519eb52] \u001b[39m\u001b[92m+ RegressionTables v0.7.8\u001b[39m\n",
      "\u001b[32m\u001b[1m    Updating\u001b[22m\u001b[39m `~/.julia/environments/v1.10/Manifest.toml`\n",
      "  \u001b[90m[d519eb52] \u001b[39m\u001b[92m+ RegressionTables v0.7.8\u001b[39m\n",
      "\u001b[32m\u001b[1mPrecompiling\u001b[22m\u001b[39m project...\n",
      "\u001b[32m  ✓ \u001b[39mRegressionTables\n",
      "\u001b[32m  ✓ \u001b[39m\u001b[90mRegressionTables → RegressionTablesFixedEffectModelsExt\u001b[39m\n",
      "  2 dependencies successfully precompiled in 5 seconds. 273 already precompiled.\n"
     ]
    }
   ],
   "source": [
    "using Pkg\n",
    "Pkg.add([\"Binscatters\", \"CSV\", \"DataFrames\", \"Statistics\", \"Plots\", \"FixedEffectModels\", \"RegressionTables\"])"
   ]
  },
  {
   "cell_type": "markdown",
   "metadata": {},
   "source": [
    "To **load the libraries**, we use the command `using`. \n",
    "\n",
    "Here we will be loading a bunch of libraries so that we can load and use the data (`DataFrames`, `CSV`), compute statistics and manipulate data (`Statistics`) and make some nice plots (`Plots`, `Binscatters`). We will also be running some fixed-effects regressions (`FixedEffectModels`)."
   ]
  },
  {
   "cell_type": "code",
   "execution_count": 2,
   "metadata": {},
   "outputs": [],
   "source": [
    "using DataFrames\n",
    "using CSV\n",
    "using Binscatters\n",
    "using Statistics\n",
    "using Plots\n",
    "using FixedEffectModels\n",
    "using RegressionTables"
   ]
  },
  {
   "cell_type": "markdown",
   "metadata": {},
   "source": [
    "We load the data using the CSV syntax (`CSV.read`) into a data frame called `df`. Make sure the data is in the same directory as the notebook or specify the full path name."
   ]
  },
  {
   "cell_type": "code",
   "execution_count": null,
   "metadata": {},
   "outputs": [],
   "source": [
    "df = CSV.read(\"data_spain.csv\", DataFrame)\n",
    "df"
   ]
  },
  {
   "cell_type": "markdown",
   "metadata": {},
   "source": [
    "## Summary Statistics\n",
    "\n",
    "We start by displaying some statistics and plot hourly and yearly patterns of wind production and electricity demand. eltype determines the type of the variable. Note that Julia differentiates between Integers (1) and Floating-Point (1.0)\n"
   ]
  },
  {
   "cell_type": "code",
   "execution_count": null,
   "metadata": {},
   "outputs": [],
   "source": [
    "describe(df)"
   ]
  },
  {
   "cell_type": "markdown",
   "metadata": {},
   "source": [
    "In order to plot hourly and yearly patterns, we first need to combine the data at those levels. For that, we first define the groups for which the functions will be applied using `groupby`. `combine` is then used to compute the specified summary statistic. Finally, we rename the variable as `wind_mean`."
   ]
  },
  {
   "cell_type": "code",
   "execution_count": null,
   "metadata": {},
   "outputs": [],
   "source": [
    "#compute the mean for each hour and year\n",
    "df_mean = combine(groupby(df, [\"hour\", \"year\"]), :wind => mean => :wind_mean, \n",
    "    :demand => mean => :demand_mean);\n",
    "\n",
    "plot(df_mean.hour, df_mean.wind_mean, group = df_mean.year,\n",
    "    seriestype = :line, linewidth = 3,\n",
    "    title = \"Wind blows more at night...\",\n",
    "    xlabel = \"hour\",\n",
    "    ylabel = \"Wind production\",\n",
    "    legend = :outerright)"
   ]
  },
  {
   "cell_type": "code",
   "execution_count": null,
   "metadata": {},
   "outputs": [],
   "source": [
    "plot(df_mean.hour, df_mean.demand_mean, group = df_mean.year,\n",
    "    seriestype = :line, linewidth = 3,\n",
    "    title = \"...and it is weakly correlated with demand\",\n",
    "    xlabel = \"hour\",\n",
    "    ylabel = \"Electricity Demand\",\n",
    "    legend = :outerright)"
   ]
  },
  {
   "cell_type": "markdown",
   "metadata": {},
   "source": [
    "## The impacts of wind: a visual exploration\n",
    "\n",
    "We will be plotting the **impacts of wind** on several outcomes of interest:\n",
    "* Emissions\n",
    "* Wholesale prices\n",
    "* System costs\n",
    "* Wholesale prices + system costs\n",
    "\n",
    "We will be using the library `Binscatters` for plotting."
   ]
  },
  {
   "cell_type": "code",
   "execution_count": null,
   "metadata": {},
   "outputs": [],
   "source": [
    "scatter( df.wind_forecast, df.emis_tCO2)"
   ]
  },
  {
   "cell_type": "code",
   "execution_count": null,
   "metadata": {},
   "outputs": [],
   "source": [
    "binscatter(df, @formula(emis_tCO2 ~ wind_forecast), 10, \n",
    "\t\tseriestype = :scatterpath,\n",
    "\t\ttitle = \"Wind reduces emissions\",\n",
    "\t\txlabel = \"Wind forecast (GWh)\",\n",
    "\t\tylabel = \"Hourly emissions (tons CO2)\", \n",
    "\t\tlabel=\"wind forecast\",\n",
    "\t\tlegend=:topright)\n",
    "#we can add new specifications\n",
    "binscatter!(df, @formula(emis_tCO2 ~ wind), 10,seriestype = :scatterpath,\n",
    "\t\tlabel=\"wind production\")"
   ]
  },
  {
   "cell_type": "code",
   "execution_count": null,
   "metadata": {},
   "outputs": [],
   "source": [
    "#we can add controls\n",
    "binscatter(df, @formula(wholesale_price ~ wind_forecast), 10, \n",
    "\t\tseriestype = :scatterpath,\n",
    "\t\ttitle = \"Wind reduces wholesale prices\",\n",
    "\t\txlabel = \"Wind forecast (GWh)\",\n",
    "\t\tylabel = \"Wholesale price (EUR/MWh)\",\n",
    "\t\tlabel = \"no controls\")\n",
    "\n",
    "#   binscatter!(df, @formula(wholesale_price ~ wind_forecast + demand_forecast + fe(year) + fe(month) + fe(hour)), 10,seriestype = :scatterpath,\n",
    "#   label = \"controls\")"
   ]
  },
  {
   "cell_type": "code",
   "execution_count": null,
   "metadata": {},
   "outputs": [],
   "source": [
    "binscatter(df, @formula(system_costs ~ wind_forecast), 10, \n",
    "\t\tseriestype = :scatterpath,\n",
    "\t\ttitle = \"Wind increases system costs\",\n",
    "\t\txlabel = \"Wind forecast (GWh)\",\n",
    "\t\tylabel = \"System costs (EUR/MWh)\")"
   ]
  },
  {
   "cell_type": "code",
   "execution_count": null,
   "metadata": {},
   "outputs": [],
   "source": [
    "df.total_price = df.wholesale_price + df.system_costs\n",
    "binscatter(df, @formula(total_price ~ wind_forecast), 10, \n",
    "\tseriestype = :scatterpath,\n",
    "\ttitle = \"But still reduces overall costs\",\n",
    "\txlabel = \"Wind forecast (GWh)\",\n",
    "\tylabel = \"Wholesale price + system costs (EUR/MWh)\")"
   ]
  },
  {
   "cell_type": "markdown",
   "metadata": {},
   "source": [
    "## Wind endogeneity\n",
    "\n",
    "One can estimate the effects of wind using a regression framework. However, it is important to keep in mind that wind production can be endogenous.\n",
    "\n",
    "In moments of very high forecasted wind, it is often the case that wind is discarded. This can create an endogeneity problem."
   ]
  },
  {
   "cell_type": "code",
   "execution_count": null,
   "metadata": {},
   "outputs": [],
   "source": [
    "scatter(df.wind_forecast, df.wind, xlabel=\"Forecasted wind\", ylabel=\"Wind\", legend=false, title=\"Discarded wind\")"
   ]
  },
  {
   "cell_type": "markdown",
   "metadata": {},
   "source": [
    "We can examine the endogeneity problem in the context of assessing the impact of wind on reliability and other congestion costs (\"system costs\").\n",
    "\n",
    "On days of very high wind, measured wind production could be lower than expected, leading to a downward bias in our estimates: a difficult day with lots of wind appears as a day with low levels of wind in the data.\n",
    "\n",
    "To address this issue, one can use forecasted wind as an exogenous variable.\n",
    "\n",
    "We will be running these regressions using the `FixedEffectModels` library."
   ]
  },
  {
   "cell_type": "code",
   "execution_count": null,
   "metadata": {},
   "outputs": [],
   "source": [
    "reg_w = reg(df, @formula(system_costs ~ wind + fe(year) + fe(month)))"
   ]
  },
  {
   "cell_type": "code",
   "execution_count": null,
   "metadata": {},
   "outputs": [],
   "source": [
    "reg_wf = reg(df, @formula(system_costs ~  wind_forecast + fe(year) + fe(month)))"
   ]
  },
  {
   "cell_type": "markdown",
   "id": "92f12e69",
   "metadata": {},
   "source": [
    "We might want to instrument wind production with its forecast instead."
   ]
  },
  {
   "cell_type": "code",
   "execution_count": null,
   "id": "7a76be11",
   "metadata": {},
   "outputs": [],
   "source": [
    "reg_i = reg(df, @formula(system_costs ~  (wind~wind_forecast) + fe(year) + fe(month)))"
   ]
  },
  {
   "cell_type": "markdown",
   "metadata": {},
   "source": [
    "Another possible problem is that system costs from wind production may be realized in hours with no wind. In this case, the hourly regression coefficient will be downward biased. To circumvent this issue, we can estimate the same regression at a daily level.\n",
    "\n",
    "For that, we compute the total system costs as well as total wind power."
   ]
  },
  {
   "cell_type": "code",
   "execution_count": null,
   "metadata": {},
   "outputs": [],
   "source": [
    "df.day_id = string.(df.year,df.month,df.day)\n",
    "#In Julia, row-wise operations are defined with a dot.\n",
    "\t\n",
    "df_day = combine(groupby(df, [\"day_id\",\"year\",\"month\"]), :wind => sum => :wind, :wind_forecast => sum => :wind_forecast, :system_costs => sum => :system_costs);"
   ]
  },
  {
   "cell_type": "code",
   "execution_count": null,
   "metadata": {},
   "outputs": [],
   "source": [
    "reg_d = reg(df_day, @formula(system_costs ~ wind_forecast + fe(year) + fe(month)))"
   ]
  },
  {
   "cell_type": "markdown",
   "metadata": {},
   "source": [
    "We can display the output of our regressions using the `RegressionTables` package (similar to `stargazer` in R)."
   ]
  },
  {
   "cell_type": "code",
   "execution_count": null,
   "metadata": {},
   "outputs": [],
   "source": [
    "regtable(reg_w, reg_wf, reg_i, reg_d, regression_statistics = [:nobs,:adjr2])"
   ]
  },
  {
   "cell_type": "markdown",
   "metadata": {},
   "source": [
    "This package also allows you to generate Latex output:"
   ]
  },
  {
   "cell_type": "code",
   "execution_count": null,
   "metadata": {},
   "outputs": [],
   "source": [
    "regtable(reg_w,reg_wf,reg_i,reg_d; renderSettings = latexOutput())\n",
    "\n",
    "# To create a Latex document with the table simply specify the name of the document:\n",
    "# regtable(reg_w,reg_wf,reg_i,reg_d; renderSettings = latexOutput(\"myoutputfile.tex\"))\n"
   ]
  },
  {
   "cell_type": "markdown",
   "metadata": {},
   "source": [
    "## A policy change \n",
    "\n",
    "The paper explores the **role of market design** in affecting the value of wind. The market moved away from subsidies that are paid based on production to subsidies that are based on installed capacity (subject to minimum performance requirments).\n",
    "\n",
    "In the wholesale market, this implies that renewables no longer have an incentive to produce when prices are very low, e.g., as in California or Texas, in which prices are often zero or negative. \n",
    "\n",
    "We will split the data in two to examine the change in the distribution of wholesale prices around the policy change."
   ]
  },
  {
   "cell_type": "code",
   "execution_count": null,
   "metadata": {},
   "outputs": [],
   "source": [
    "df.policy = (((df.year .> 2014) .| ((df.year.==2014) .& (df.month .> 5))));\n",
    "df_policy = filter(row -> 2012 < row.year < 2016 ,df);\n",
    "\t\n",
    "histogram(df_policy.wholesale_price, group = df_policy.policy, alpha = 0.7, label = [\"pre\" \"post\"])"
   ]
  },
  {
   "cell_type": "markdown",
   "metadata": {},
   "source": [
    "The policy change appeared to reduce system costs in the market. This could be due to the challenges of dispatching the market in the presence of zero prices, which lead to several strategic distortions.\n",
    "\n",
    "We can plot system costs before and after the change."
   ]
  },
  {
   "cell_type": "code",
   "execution_count": null,
   "metadata": {},
   "outputs": [],
   "source": [
    "binscatter(groupby(df_policy, :policy), @formula(system_costs ~ wind_forecast), 10, \n",
    "\tseriestype = :linearfit,\n",
    "\tlegend = :topleft)"
   ]
  },
  {
   "cell_type": "markdown",
   "metadata": {},
   "source": [
    "Consumers were still worse off due to the increase in prices. Wind price reduction effect diminished."
   ]
  },
  {
   "cell_type": "code",
   "execution_count": null,
   "metadata": {},
   "outputs": [],
   "source": [
    "binscatter(groupby(df_policy, :policy), @formula(total_price ~ wind_forecast), 10, \n",
    "\tseriestype = :linearfit,\n",
    "\tlegend = :topright)"
   ]
  },
  {
   "cell_type": "markdown",
   "metadata": {},
   "source": [
    "**Note:** This is an event study, so there are other changes happening in the market. The idea here is to show major effects of the policy, but proper quantification requires more explicit control of confounders. To start with, although not exhaustive, we can estimate the effect of wind forecast after the policy change."
   ]
  },
  {
   "cell_type": "code",
   "execution_count": null,
   "metadata": {},
   "outputs": [],
   "source": [
    "reg(df, @formula(wholesale_price ~ wind_forecast*policy + demand_forecast + fe(hour) + fe(year) + fe(month)))"
   ]
  },
  {
   "cell_type": "markdown",
   "metadata": {},
   "source": [
    "## Follow-up exercises\n",
    "\n",
    "1. What is the correlation of wind and demand? How could that affect the valuation of wind power?\n",
    "\n",
    "2. (*) What is the environmental benefit of wind power in this market per unit of wind? Try to quantify that by regressing emissions on wind and converting it to a monetary amount using a valuation for emissions reductions. \n",
    "Estimate the total welfare effects of wind production. For that, you need to add to the environmental benefit the consumer and producer surplus. With respect to the producer surplus assume that the LCOE ranges between 50 to 90 €/MWh. How does your answer depend on the monetary value of reducing emissions?"
   ]
  }
 ],
 "metadata": {
  "kernelspec": {
   "display_name": "Julia 1.10.4",
   "language": "julia",
   "name": "julia-1.10"
  },
  "language_info": {
   "file_extension": ".jl",
   "mimetype": "application/julia",
   "name": "julia",
   "version": "1.10.4"
  }
 },
 "nbformat": 4,
 "nbformat_minor": 5
}
